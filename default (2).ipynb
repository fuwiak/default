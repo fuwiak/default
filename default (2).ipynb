{
  "nbformat": 4,
  "nbformat_minor": 0,
  "metadata": {
    "colab": {
      "name": "default.ipynb",
      "provenance": [],
      "collapsed_sections": []
    },
    "kernelspec": {
      "name": "python3",
      "display_name": "Python 3"
    }
  },
  "cells": [
    {
      "cell_type": "code",
      "metadata": {
        "id": "Uu5Nt90-q9UM"
      },
      "source": [
        "import pandas as pd\n",
        "import numpy as np\n",
        "from sklearn import datasets, linear_model\n",
        "from sklearn.model_selection import train_test_split\n",
        "from matplotlib import pyplot as plt\n",
        "import xgboost as xgb\n",
        "from sklearn.ensemble import RandomForestClassifier\n",
        "from scipy import integrate\n"
      ],
      "execution_count": 1,
      "outputs": []
    },
    {
      "cell_type": "code",
      "metadata": {
        "id": "FC1X_NghiBdt",
        "outputId": "351dceb0-14b8-48f3-cb8b-dfbd5277bcc7",
        "colab": {
          "base_uri": "https://localhost:8080/"
        }
      },
      "source": [
        "!python --version"
      ],
      "execution_count": 2,
      "outputs": [
        {
          "output_type": "stream",
          "text": [
            "Python 3.6.9\n"
          ],
          "name": "stdout"
        }
      ]
    },
    {
      "cell_type": "code",
      "metadata": {
        "id": "zMhi88hhrYlq"
      },
      "source": [
        "# all_data = pd.read_excel(\"/content/Данные (1).xlsx\", skiprows=3)"
      ],
      "execution_count": 3,
      "outputs": []
    },
    {
      "cell_type": "code",
      "metadata": {
        "id": "w2kuo_7Lclw2"
      },
      "source": [
        "#sheetname - здесь сможем менять названание файла\n",
        "\n",
        "all_data = pd.read_excel(\"/content/Данные (1) (1).xlsx\", sheet_name=\"1_5\", skiprows=3)\n"
      ],
      "execution_count": 4,
      "outputs": []
    },
    {
      "cell_type": "code",
      "metadata": {
        "id": "npxbCodtr72-",
        "outputId": "6e4ac58b-0051-4cb9-f5fc-0e23f3ed4a7d",
        "colab": {
          "base_uri": "https://localhost:8080/",
          "height": 258
        }
      },
      "source": [
        "all_data.head()"
      ],
      "execution_count": 5,
      "outputs": [
        {
          "output_type": "execute_result",
          "data": {
            "text/html": [
              "<div>\n",
              "<style scoped>\n",
              "    .dataframe tbody tr th:only-of-type {\n",
              "        vertical-align: middle;\n",
              "    }\n",
              "\n",
              "    .dataframe tbody tr th {\n",
              "        vertical-align: top;\n",
              "    }\n",
              "\n",
              "    .dataframe thead th {\n",
              "        text-align: right;\n",
              "    }\n",
              "</style>\n",
              "<table border=\"1\" class=\"dataframe\">\n",
              "  <thead>\n",
              "    <tr style=\"text-align: right;\">\n",
              "      <th></th>\n",
              "      <th>Наименование организации</th>\n",
              "      <th>2015-01-01 00:00:00</th>\n",
              "      <th>2015-02-01 00:00:00</th>\n",
              "      <th>2015-03-01 00:00:00</th>\n",
              "      <th>2015-04-01 00:00:00</th>\n",
              "      <th>2015-05-01 00:00:00</th>\n",
              "      <th>2015-06-01 00:00:00</th>\n",
              "      <th>2015-07-01 00:00:00</th>\n",
              "      <th>2015-08-01 00:00:00</th>\n",
              "      <th>2015-09-01 00:00:00</th>\n",
              "      <th>2015-10-01 00:00:00</th>\n",
              "      <th>2015-11-01 00:00:00</th>\n",
              "      <th>2015-12-01 00:00:00</th>\n",
              "      <th>2016-01-01 00:00:00</th>\n",
              "      <th>2016-02-01 00:00:00</th>\n",
              "      <th>2016-03-01 00:00:00</th>\n",
              "      <th>2016-04-01 00:00:00</th>\n",
              "      <th>2016-05-01 00:00:00</th>\n",
              "      <th>2016-06-01 00:00:00</th>\n",
              "      <th>2016-07-01 00:00:00</th>\n",
              "      <th>2016-08-01 00:00:00</th>\n",
              "      <th>2016-09-01 00:00:00</th>\n",
              "      <th>2016-10-01 00:00:00</th>\n",
              "      <th>2016-11-01 00:00:00</th>\n",
              "      <th>2016-12-01 00:00:00</th>\n",
              "      <th>2017-01-01 00:00:00</th>\n",
              "      <th>2017-02-01 00:00:00</th>\n",
              "      <th>2017-03-01 00:00:00</th>\n",
              "      <th>2017-04-01 00:00:00</th>\n",
              "      <th>2017-05-01 00:00:00</th>\n",
              "      <th>2017-06-01 00:00:00</th>\n",
              "      <th>2017-07-01 00:00:00</th>\n",
              "      <th>2017-08-01 00:00:00</th>\n",
              "      <th>2017-09-01 00:00:00</th>\n",
              "      <th>2017-10-01 00:00:00</th>\n",
              "      <th>2017-11-01 00:00:00</th>\n",
              "      <th>2017-12-01 00:00:00</th>\n",
              "      <th>2018-01-01 00:00:00</th>\n",
              "      <th>2018-02-01 00:00:00</th>\n",
              "      <th>2018-03-01 00:00:00</th>\n",
              "      <th>2018-04-01 00:00:00</th>\n",
              "      <th>2018-05-01 00:00:00</th>\n",
              "      <th>2018-06-01 00:00:00</th>\n",
              "      <th>2018-07-01 00:00:00</th>\n",
              "      <th>2018-08-01 00:00:00</th>\n",
              "      <th>2018-09-01 00:00:00</th>\n",
              "      <th>2018-10-01 00:00:00</th>\n",
              "      <th>2018-11-01 00:00:00</th>\n",
              "      <th>2018-12-01 00:00:00</th>\n",
              "      <th>2019-01-01 00:00:00</th>\n",
              "      <th>2019-02-01 00:00:00</th>\n",
              "      <th>2019-03-01 00:00:00</th>\n",
              "      <th>2019-04-01 00:00:00</th>\n",
              "      <th>2019-05-01 00:00:00</th>\n",
              "      <th>2019-06-01 00:00:00</th>\n",
              "      <th>2019-07-01 00:00:00</th>\n",
              "      <th>2019-08-01 00:00:00</th>\n",
              "      <th>2019-09-01 00:00:00</th>\n",
              "      <th>2019-10-01 00:00:00</th>\n",
              "      <th>2019-11-01 00:00:00</th>\n",
              "      <th>2019-12-01 00:00:00</th>\n",
              "      <th>2020-01-01 00:00:00</th>\n",
              "      <th>2020-02-01 00:00:00</th>\n",
              "      <th>2020-03-01 00:00:00</th>\n",
              "      <th>2020-04-01 00:00:00</th>\n",
              "      <th>2020-05-01 00:00:00</th>\n",
              "      <th>2020-06-01 00:00:00</th>\n",
              "      <th>2020-07-01 00:00:00</th>\n",
              "      <th>2020-08-01 00:00:00</th>\n",
              "    </tr>\n",
              "  </thead>\n",
              "  <tbody>\n",
              "    <tr>\n",
              "      <th>0</th>\n",
              "      <td>Х1</td>\n",
              "      <td>44.8682</td>\n",
              "      <td>54.4026</td>\n",
              "      <td>50.4015</td>\n",
              "      <td>48.2335</td>\n",
              "      <td>46.0757</td>\n",
              "      <td>47.0092</td>\n",
              "      <td>46.2998</td>\n",
              "      <td>50.9418</td>\n",
              "      <td>54.3674</td>\n",
              "      <td>50.2867</td>\n",
              "      <td>50.188</td>\n",
              "      <td>55.2518</td>\n",
              "      <td>55.7245</td>\n",
              "      <td>57.9464</td>\n",
              "      <td>57.9467</td>\n",
              "      <td>55.1225</td>\n",
              "      <td>53.3451</td>\n",
              "      <td>45.3466</td>\n",
              "      <td>56.1916</td>\n",
              "      <td>63.6844</td>\n",
              "      <td>58.4712</td>\n",
              "      <td>62.2365</td>\n",
              "      <td>60.0777</td>\n",
              "      <td>58.5915</td>\n",
              "      <td>58.0866</td>\n",
              "      <td>38.1746</td>\n",
              "      <td>32.7084</td>\n",
              "      <td>45.2007</td>\n",
              "      <td>37.7252</td>\n",
              "      <td>38.44</td>\n",
              "      <td>38.9301</td>\n",
              "      <td>37.602</td>\n",
              "      <td>32.2226</td>\n",
              "      <td>32.2092</td>\n",
              "      <td>30.449</td>\n",
              "      <td>31.6403</td>\n",
              "      <td>32.3986</td>\n",
              "      <td>30.4564</td>\n",
              "      <td>30.5714</td>\n",
              "      <td>30.2397</td>\n",
              "      <td>32.6807</td>\n",
              "      <td>32.9434</td>\n",
              "      <td>31.8519</td>\n",
              "      <td>31.903</td>\n",
              "      <td>33.9754</td>\n",
              "      <td>31.6643</td>\n",
              "      <td>31.6111</td>\n",
              "      <td>31.683</td>\n",
              "      <td>31.4786</td>\n",
              "      <td>30.4238</td>\n",
              "      <td>30.3935</td>\n",
              "      <td>28.5082</td>\n",
              "      <td>27.3527</td>\n",
              "      <td>26.9208</td>\n",
              "      <td>24.6612</td>\n",
              "      <td>24.2006</td>\n",
              "      <td>24.5693</td>\n",
              "      <td>21.9153</td>\n",
              "      <td>21.3979</td>\n",
              "      <td>21.1134</td>\n",
              "      <td>19.0234</td>\n",
              "      <td>18.8175</td>\n",
              "      <td>18.993</td>\n",
              "      <td>19.5441</td>\n",
              "      <td>18.012</td>\n",
              "      <td>15.5883</td>\n",
              "      <td>0</td>\n",
              "      <td>0</td>\n",
              "    </tr>\n",
              "    <tr>\n",
              "      <th>1</th>\n",
              "      <td>Х2</td>\n",
              "      <td>0</td>\n",
              "      <td>0</td>\n",
              "      <td>0</td>\n",
              "      <td>0</td>\n",
              "      <td>0</td>\n",
              "      <td>0</td>\n",
              "      <td>0</td>\n",
              "      <td>0</td>\n",
              "      <td>0</td>\n",
              "      <td>0</td>\n",
              "      <td>0</td>\n",
              "      <td>0</td>\n",
              "      <td>0</td>\n",
              "      <td>0</td>\n",
              "      <td>0</td>\n",
              "      <td>0</td>\n",
              "      <td>0</td>\n",
              "      <td>0</td>\n",
              "      <td>0</td>\n",
              "      <td>0</td>\n",
              "      <td>0</td>\n",
              "      <td>0</td>\n",
              "      <td>0</td>\n",
              "      <td>0</td>\n",
              "      <td>0</td>\n",
              "      <td>0</td>\n",
              "      <td>0</td>\n",
              "      <td>0</td>\n",
              "      <td>0</td>\n",
              "      <td>0</td>\n",
              "      <td>0</td>\n",
              "      <td>0</td>\n",
              "      <td>0</td>\n",
              "      <td>0</td>\n",
              "      <td>0</td>\n",
              "      <td>0</td>\n",
              "      <td>0</td>\n",
              "      <td>0</td>\n",
              "      <td>0</td>\n",
              "      <td>0</td>\n",
              "      <td>0</td>\n",
              "      <td>0</td>\n",
              "      <td>0</td>\n",
              "      <td>0</td>\n",
              "      <td>0</td>\n",
              "      <td>0</td>\n",
              "      <td>0</td>\n",
              "      <td>0</td>\n",
              "      <td>0</td>\n",
              "      <td>0</td>\n",
              "      <td>0</td>\n",
              "      <td>0</td>\n",
              "      <td>0</td>\n",
              "      <td>0</td>\n",
              "      <td>0</td>\n",
              "      <td>0</td>\n",
              "      <td>0</td>\n",
              "      <td>0</td>\n",
              "      <td>0</td>\n",
              "      <td>0</td>\n",
              "      <td>0</td>\n",
              "      <td>0</td>\n",
              "      <td>0</td>\n",
              "      <td>0</td>\n",
              "      <td>0</td>\n",
              "      <td>0</td>\n",
              "      <td>0</td>\n",
              "      <td>0</td>\n",
              "    </tr>\n",
              "    <tr>\n",
              "      <th>2</th>\n",
              "      <td>Х3</td>\n",
              "      <td>48.3473</td>\n",
              "      <td>52.9609</td>\n",
              "      <td>49.8953</td>\n",
              "      <td>47.6278</td>\n",
              "      <td>44.3243</td>\n",
              "      <td>43.4688</td>\n",
              "      <td>44.4502</td>\n",
              "      <td>46.1194</td>\n",
              "      <td>47.356</td>\n",
              "      <td>47.2626</td>\n",
              "      <td>46.5984</td>\n",
              "      <td>45.705</td>\n",
              "      <td>47.9114</td>\n",
              "      <td>49.0813</td>\n",
              "      <td>46.7713</td>\n",
              "      <td>44.1429</td>\n",
              "      <td>43.0461</td>\n",
              "      <td>41.6716</td>\n",
              "      <td>40.8242</td>\n",
              "      <td>41.7121</td>\n",
              "      <td>39.4465</td>\n",
              "      <td>38.6365</td>\n",
              "      <td>38.0971</td>\n",
              "      <td>36.6638</td>\n",
              "      <td>35.1191</td>\n",
              "      <td>34.6277</td>\n",
              "      <td>32.0866</td>\n",
              "      <td>31.2741</td>\n",
              "      <td>31.2523</td>\n",
              "      <td>29.1811</td>\n",
              "      <td>29.9441</td>\n",
              "      <td>30.2739</td>\n",
              "      <td>27.6767</td>\n",
              "      <td>27.5638</td>\n",
              "      <td>27.0875</td>\n",
              "      <td>24.9667</td>\n",
              "      <td>24.642</td>\n",
              "      <td>24.2077</td>\n",
              "      <td>21.6849</td>\n",
              "      <td>22.1175</td>\n",
              "      <td>23.21</td>\n",
              "      <td>21.3245</td>\n",
              "      <td>41.9466</td>\n",
              "      <td>41.5696</td>\n",
              "      <td>42.9072</td>\n",
              "      <td>42.0744</td>\n",
              "      <td>41.5095</td>\n",
              "      <td>41.4639</td>\n",
              "      <td>42.6252</td>\n",
              "      <td>41.1464</td>\n",
              "      <td>42.3676</td>\n",
              "      <td>40.455</td>\n",
              "      <td>40.3811</td>\n",
              "      <td>40.0941</td>\n",
              "      <td>39.2487</td>\n",
              "      <td>39.1268</td>\n",
              "      <td>40.0448</td>\n",
              "      <td>39.1326</td>\n",
              "      <td>38.6667</td>\n",
              "      <td>37.9506</td>\n",
              "      <td>37.222</td>\n",
              "      <td>37.5384</td>\n",
              "      <td>36.9074</td>\n",
              "      <td>41.0241</td>\n",
              "      <td>39.3269</td>\n",
              "      <td>36.7743</td>\n",
              "      <td>36.2937</td>\n",
              "      <td>37.2441</td>\n",
              "    </tr>\n",
              "    <tr>\n",
              "      <th>3</th>\n",
              "      <td>Х4</td>\n",
              "      <td>0</td>\n",
              "      <td>0</td>\n",
              "      <td>0</td>\n",
              "      <td>0</td>\n",
              "      <td>0</td>\n",
              "      <td>0</td>\n",
              "      <td>0</td>\n",
              "      <td>0</td>\n",
              "      <td>0</td>\n",
              "      <td>0</td>\n",
              "      <td>0</td>\n",
              "      <td>0</td>\n",
              "      <td>0</td>\n",
              "      <td>0</td>\n",
              "      <td>0</td>\n",
              "      <td>0</td>\n",
              "      <td>0</td>\n",
              "      <td>0</td>\n",
              "      <td>0</td>\n",
              "      <td>0</td>\n",
              "      <td>0</td>\n",
              "      <td>0</td>\n",
              "      <td>0</td>\n",
              "      <td>0</td>\n",
              "      <td>0</td>\n",
              "      <td>0</td>\n",
              "      <td>0</td>\n",
              "      <td>0</td>\n",
              "      <td>0</td>\n",
              "      <td>0</td>\n",
              "      <td>0</td>\n",
              "      <td>0</td>\n",
              "      <td>0</td>\n",
              "      <td>0</td>\n",
              "      <td>0</td>\n",
              "      <td>0</td>\n",
              "      <td>0</td>\n",
              "      <td>0</td>\n",
              "      <td>0</td>\n",
              "      <td>0</td>\n",
              "      <td>0</td>\n",
              "      <td>0</td>\n",
              "      <td>0</td>\n",
              "      <td>0</td>\n",
              "      <td>0</td>\n",
              "      <td>0</td>\n",
              "      <td>0</td>\n",
              "      <td>0</td>\n",
              "      <td>0</td>\n",
              "      <td>0</td>\n",
              "      <td>0</td>\n",
              "      <td>0</td>\n",
              "      <td>0</td>\n",
              "      <td>0</td>\n",
              "      <td>0</td>\n",
              "      <td>0</td>\n",
              "      <td>0</td>\n",
              "      <td>0</td>\n",
              "      <td>0</td>\n",
              "      <td>0</td>\n",
              "      <td>0</td>\n",
              "      <td>0</td>\n",
              "      <td>0</td>\n",
              "      <td>0</td>\n",
              "      <td>0</td>\n",
              "      <td>0</td>\n",
              "      <td>0</td>\n",
              "      <td>0</td>\n",
              "    </tr>\n",
              "    <tr>\n",
              "      <th>4</th>\n",
              "      <td>Х5</td>\n",
              "      <td>44.0564</td>\n",
              "      <td>50.0786</td>\n",
              "      <td>46.5784</td>\n",
              "      <td>45.9423</td>\n",
              "      <td>41.068</td>\n",
              "      <td>43.6206</td>\n",
              "      <td>43.5961</td>\n",
              "      <td>46.3355</td>\n",
              "      <td>46.5063</td>\n",
              "      <td>47.0354</td>\n",
              "      <td>46.6499</td>\n",
              "      <td>47.6609</td>\n",
              "      <td>51.5761</td>\n",
              "      <td>48.5373</td>\n",
              "      <td>48.2849</td>\n",
              "      <td>45.7983</td>\n",
              "      <td>44.4353</td>\n",
              "      <td>45.6495</td>\n",
              "      <td>45.0258</td>\n",
              "      <td>45.7986</td>\n",
              "      <td>45.1373</td>\n",
              "      <td>44.3081</td>\n",
              "      <td>44.0504</td>\n",
              "      <td>44.8469</td>\n",
              "      <td>41.8544</td>\n",
              "      <td>41.5025</td>\n",
              "      <td>40.5926</td>\n",
              "      <td>39.9574</td>\n",
              "      <td>39.8406</td>\n",
              "      <td>39.7737</td>\n",
              "      <td>40.85</td>\n",
              "      <td>41.0833</td>\n",
              "      <td>40.7336</td>\n",
              "      <td>40.6461</td>\n",
              "      <td>39.7136</td>\n",
              "      <td>39.9179</td>\n",
              "      <td>39.8376</td>\n",
              "      <td>39.1243</td>\n",
              "      <td>38.6487</td>\n",
              "      <td>39.3914</td>\n",
              "      <td>40.9898</td>\n",
              "      <td>41.2424</td>\n",
              "      <td>41.6872</td>\n",
              "      <td>40.3786</td>\n",
              "      <td>42.4289</td>\n",
              "      <td>40.6902</td>\n",
              "      <td>40.819</td>\n",
              "      <td>35.1985</td>\n",
              "      <td>35.6119</td>\n",
              "      <td>34.3683</td>\n",
              "      <td>21.161</td>\n",
              "      <td>20.2989</td>\n",
              "      <td>20.1442</td>\n",
              "      <td>20.4812</td>\n",
              "      <td>18.8286</td>\n",
              "      <td>18.6846</td>\n",
              "      <td>19.6639</td>\n",
              "      <td>17.9168</td>\n",
              "      <td>17.3062</td>\n",
              "      <td>17.4424</td>\n",
              "      <td>15.8513</td>\n",
              "      <td>15.8378</td>\n",
              "      <td>16.7767</td>\n",
              "      <td>0</td>\n",
              "      <td>0</td>\n",
              "      <td>0</td>\n",
              "      <td>0</td>\n",
              "      <td>16.8593</td>\n",
              "    </tr>\n",
              "  </tbody>\n",
              "</table>\n",
              "</div>"
            ],
            "text/plain": [
              "  Наименование организации  ... 2020-08-01 00:00:00\n",
              "0                       Х1  ...                   0\n",
              "1                       Х2  ...                   0\n",
              "2                       Х3  ...             37.2441\n",
              "3                       Х4  ...                   0\n",
              "4                       Х5  ...             16.8593\n",
              "\n",
              "[5 rows x 69 columns]"
            ]
          },
          "metadata": {
            "tags": []
          },
          "execution_count": 5
        }
      ]
    },
    {
      "cell_type": "code",
      "metadata": {
        "id": "iUIcHpmBs1KX"
      },
      "source": [
        "good_company = all_data.iloc[0:358]"
      ],
      "execution_count": 6,
      "outputs": []
    },
    {
      "cell_type": "code",
      "metadata": {
        "id": "bUVqneOgtBdb"
      },
      "source": [
        "good_company.set_index('Наименование организации', inplace=True)"
      ],
      "execution_count": 7,
      "outputs": []
    },
    {
      "cell_type": "code",
      "metadata": {
        "id": "pTLSN-uTycJb"
      },
      "source": [
        "#remove zeros"
      ],
      "execution_count": 8,
      "outputs": []
    },
    {
      "cell_type": "code",
      "metadata": {
        "id": "jzT9NYu7xyAc"
      },
      "source": [
        "good_company = good_company[(good_company.T != 0).any()]"
      ],
      "execution_count": 9,
      "outputs": []
    },
    {
      "cell_type": "code",
      "metadata": {
        "id": "l_9eNMqRsBOa"
      },
      "source": [
        "default_company=all_data.iloc[363:]"
      ],
      "execution_count": 10,
      "outputs": []
    },
    {
      "cell_type": "code",
      "metadata": {
        "id": "f2uaM-R5xW8q"
      },
      "source": [
        "default_company.set_index('Наименование организации', inplace=True)"
      ],
      "execution_count": 11,
      "outputs": []
    },
    {
      "cell_type": "code",
      "metadata": {
        "id": "YUu15tV5Yrhe"
      },
      "source": [
        "default_company = default_company[(default_company.T != 0).any()]"
      ],
      "execution_count": 12,
      "outputs": []
    },
    {
      "cell_type": "code",
      "metadata": {
        "id": "DY_QJMF7wSro"
      },
      "source": [
        "default_company_pv=pd.pivot_table(default_company, index=[\"Наименование организации\"], aggfunc=np.sum)"
      ],
      "execution_count": 13,
      "outputs": []
    },
    {
      "cell_type": "code",
      "metadata": {
        "id": "2zCpv7fxxjpz"
      },
      "source": [
        ""
      ],
      "execution_count": 13,
      "outputs": []
    },
    {
      "cell_type": "code",
      "metadata": {
        "id": "TLJ9vs91ydqh"
      },
      "source": [
        "good_company_pv=pd.pivot_table(good_company, index=[\"Наименование организации\"], aggfunc=np.sum)"
      ],
      "execution_count": 14,
      "outputs": []
    },
    {
      "cell_type": "code",
      "metadata": {
        "id": "v4_FlDTc196V"
      },
      "source": [
        "#удаление "
      ],
      "execution_count": 15,
      "outputs": []
    },
    {
      "cell_type": "code",
      "metadata": {
        "id": "C5WoDZfH690W"
      },
      "source": [
        "#prepare data for machine learning"
      ],
      "execution_count": 16,
      "outputs": []
    },
    {
      "cell_type": "code",
      "metadata": {
        "id": "u0kxmIsk4gxe"
      },
      "source": [
        "default_company_pv['label']=1"
      ],
      "execution_count": 17,
      "outputs": []
    },
    {
      "cell_type": "code",
      "metadata": {
        "id": "beT3cM6e5G8H"
      },
      "source": [
        "good_company_pv['label']=0"
      ],
      "execution_count": 18,
      "outputs": []
    },
    {
      "cell_type": "code",
      "metadata": {
        "id": "zV7NOxkB6NBH"
      },
      "source": [
        "frames = [default_company_pv, good_company_pv]\n",
        "df = pd.concat(frames)"
      ],
      "execution_count": 19,
      "outputs": []
    },
    {
      "cell_type": "code",
      "metadata": {
        "id": "j5mSdhzA6hWH"
      },
      "source": [
        "df_sh = df.sample(n=len(df), random_state=42)"
      ],
      "execution_count": 20,
      "outputs": []
    },
    {
      "cell_type": "code",
      "metadata": {
        "id": "dBct5pzUZras"
      },
      "source": [
        "df_sh = df_sh[(df_sh.T != 0).any()]"
      ],
      "execution_count": 21,
      "outputs": []
    },
    {
      "cell_type": "code",
      "metadata": {
        "id": "5f4xpIbZaG2U",
        "outputId": "319b3622-6861-42c7-d689-d5468086b3a8",
        "colab": {
          "base_uri": "https://localhost:8080/",
          "height": 521
        }
      },
      "source": [
        "df_sh"
      ],
      "execution_count": 22,
      "outputs": [
        {
          "output_type": "execute_result",
          "data": {
            "text/html": [
              "<div>\n",
              "<style scoped>\n",
              "    .dataframe tbody tr th:only-of-type {\n",
              "        vertical-align: middle;\n",
              "    }\n",
              "\n",
              "    .dataframe tbody tr th {\n",
              "        vertical-align: top;\n",
              "    }\n",
              "\n",
              "    .dataframe thead th {\n",
              "        text-align: right;\n",
              "    }\n",
              "</style>\n",
              "<table border=\"1\" class=\"dataframe\">\n",
              "  <thead>\n",
              "    <tr style=\"text-align: right;\">\n",
              "      <th></th>\n",
              "      <th>2015-01-01 00:00:00</th>\n",
              "      <th>2015-02-01 00:00:00</th>\n",
              "      <th>2015-03-01 00:00:00</th>\n",
              "      <th>2015-04-01 00:00:00</th>\n",
              "      <th>2015-05-01 00:00:00</th>\n",
              "      <th>2015-06-01 00:00:00</th>\n",
              "      <th>2015-07-01 00:00:00</th>\n",
              "      <th>2015-08-01 00:00:00</th>\n",
              "      <th>2015-09-01 00:00:00</th>\n",
              "      <th>2015-10-01 00:00:00</th>\n",
              "      <th>2015-11-01 00:00:00</th>\n",
              "      <th>2015-12-01 00:00:00</th>\n",
              "      <th>2016-01-01 00:00:00</th>\n",
              "      <th>2016-02-01 00:00:00</th>\n",
              "      <th>2016-03-01 00:00:00</th>\n",
              "      <th>2016-04-01 00:00:00</th>\n",
              "      <th>2016-05-01 00:00:00</th>\n",
              "      <th>2016-06-01 00:00:00</th>\n",
              "      <th>2016-07-01 00:00:00</th>\n",
              "      <th>2016-08-01 00:00:00</th>\n",
              "      <th>2016-09-01 00:00:00</th>\n",
              "      <th>2016-10-01 00:00:00</th>\n",
              "      <th>2016-11-01 00:00:00</th>\n",
              "      <th>2016-12-01 00:00:00</th>\n",
              "      <th>2017-01-01 00:00:00</th>\n",
              "      <th>2017-02-01 00:00:00</th>\n",
              "      <th>2017-03-01 00:00:00</th>\n",
              "      <th>2017-04-01 00:00:00</th>\n",
              "      <th>2017-05-01 00:00:00</th>\n",
              "      <th>2017-06-01 00:00:00</th>\n",
              "      <th>2017-07-01 00:00:00</th>\n",
              "      <th>2017-08-01 00:00:00</th>\n",
              "      <th>2017-09-01 00:00:00</th>\n",
              "      <th>2017-10-01 00:00:00</th>\n",
              "      <th>2017-11-01 00:00:00</th>\n",
              "      <th>2017-12-01 00:00:00</th>\n",
              "      <th>2018-01-01 00:00:00</th>\n",
              "      <th>2018-02-01 00:00:00</th>\n",
              "      <th>2018-03-01 00:00:00</th>\n",
              "      <th>2018-04-01 00:00:00</th>\n",
              "      <th>2018-05-01 00:00:00</th>\n",
              "      <th>2018-06-01 00:00:00</th>\n",
              "      <th>2018-07-01 00:00:00</th>\n",
              "      <th>2018-08-01 00:00:00</th>\n",
              "      <th>2018-09-01 00:00:00</th>\n",
              "      <th>2018-10-01 00:00:00</th>\n",
              "      <th>2018-11-01 00:00:00</th>\n",
              "      <th>2018-12-01 00:00:00</th>\n",
              "      <th>2019-01-01 00:00:00</th>\n",
              "      <th>2019-02-01 00:00:00</th>\n",
              "      <th>2019-03-01 00:00:00</th>\n",
              "      <th>2019-04-01 00:00:00</th>\n",
              "      <th>2019-05-01 00:00:00</th>\n",
              "      <th>2019-06-01 00:00:00</th>\n",
              "      <th>2019-07-01 00:00:00</th>\n",
              "      <th>2019-08-01 00:00:00</th>\n",
              "      <th>2019-09-01 00:00:00</th>\n",
              "      <th>2019-10-01 00:00:00</th>\n",
              "      <th>2019-11-01 00:00:00</th>\n",
              "      <th>2019-12-01 00:00:00</th>\n",
              "      <th>2020-01-01 00:00:00</th>\n",
              "      <th>2020-02-01 00:00:00</th>\n",
              "      <th>2020-03-01 00:00:00</th>\n",
              "      <th>2020-04-01 00:00:00</th>\n",
              "      <th>2020-05-01 00:00:00</th>\n",
              "      <th>2020-06-01 00:00:00</th>\n",
              "      <th>2020-07-01 00:00:00</th>\n",
              "      <th>2020-08-01 00:00:00</th>\n",
              "      <th>label</th>\n",
              "    </tr>\n",
              "    <tr>\n",
              "      <th>Наименование организации</th>\n",
              "      <th></th>\n",
              "      <th></th>\n",
              "      <th></th>\n",
              "      <th></th>\n",
              "      <th></th>\n",
              "      <th></th>\n",
              "      <th></th>\n",
              "      <th></th>\n",
              "      <th></th>\n",
              "      <th></th>\n",
              "      <th></th>\n",
              "      <th></th>\n",
              "      <th></th>\n",
              "      <th></th>\n",
              "      <th></th>\n",
              "      <th></th>\n",
              "      <th></th>\n",
              "      <th></th>\n",
              "      <th></th>\n",
              "      <th></th>\n",
              "      <th></th>\n",
              "      <th></th>\n",
              "      <th></th>\n",
              "      <th></th>\n",
              "      <th></th>\n",
              "      <th></th>\n",
              "      <th></th>\n",
              "      <th></th>\n",
              "      <th></th>\n",
              "      <th></th>\n",
              "      <th></th>\n",
              "      <th></th>\n",
              "      <th></th>\n",
              "      <th></th>\n",
              "      <th></th>\n",
              "      <th></th>\n",
              "      <th></th>\n",
              "      <th></th>\n",
              "      <th></th>\n",
              "      <th></th>\n",
              "      <th></th>\n",
              "      <th></th>\n",
              "      <th></th>\n",
              "      <th></th>\n",
              "      <th></th>\n",
              "      <th></th>\n",
              "      <th></th>\n",
              "      <th></th>\n",
              "      <th></th>\n",
              "      <th></th>\n",
              "      <th></th>\n",
              "      <th></th>\n",
              "      <th></th>\n",
              "      <th></th>\n",
              "      <th></th>\n",
              "      <th></th>\n",
              "      <th></th>\n",
              "      <th></th>\n",
              "      <th></th>\n",
              "      <th></th>\n",
              "      <th></th>\n",
              "      <th></th>\n",
              "      <th></th>\n",
              "      <th></th>\n",
              "      <th></th>\n",
              "      <th></th>\n",
              "      <th></th>\n",
              "      <th></th>\n",
              "      <th></th>\n",
              "    </tr>\n",
              "  </thead>\n",
              "  <tbody>\n",
              "    <tr>\n",
              "      <th>Д17.19</th>\n",
              "      <td>0.0000</td>\n",
              "      <td>0.0000</td>\n",
              "      <td>0.0000</td>\n",
              "      <td>0.0000</td>\n",
              "      <td>0.0000</td>\n",
              "      <td>0.0000</td>\n",
              "      <td>0.0000</td>\n",
              "      <td>0.0000</td>\n",
              "      <td>0.0000</td>\n",
              "      <td>0.0000</td>\n",
              "      <td>0.0000</td>\n",
              "      <td>0.0000</td>\n",
              "      <td>0.0000</td>\n",
              "      <td>0.00000</td>\n",
              "      <td>0.00000</td>\n",
              "      <td>0.00000</td>\n",
              "      <td>0.00000</td>\n",
              "      <td>0.00000</td>\n",
              "      <td>0.00000</td>\n",
              "      <td>91.45070</td>\n",
              "      <td>91.58900</td>\n",
              "      <td>86.76340</td>\n",
              "      <td>86.81500</td>\n",
              "      <td>87.47430</td>\n",
              "      <td>86.15960</td>\n",
              "      <td>85.51360</td>\n",
              "      <td>85.02640</td>\n",
              "      <td>84.50470</td>\n",
              "      <td>85.13350</td>\n",
              "      <td>83.94630</td>\n",
              "      <td>84.13550</td>\n",
              "      <td>83.86460</td>\n",
              "      <td>83.84550</td>\n",
              "      <td>83.7497</td>\n",
              "      <td>82.4108</td>\n",
              "      <td>82.26430</td>\n",
              "      <td>84.69530</td>\n",
              "      <td>84.6484</td>\n",
              "      <td>83.83330</td>\n",
              "      <td>78.7655</td>\n",
              "      <td>84.28460</td>\n",
              "      <td>84.1845</td>\n",
              "      <td>84.1692</td>\n",
              "      <td>83.9674</td>\n",
              "      <td>83.382</td>\n",
              "      <td>84.39240</td>\n",
              "      <td>83.51250</td>\n",
              "      <td>87.32250</td>\n",
              "      <td>84.58950</td>\n",
              "      <td>82.4134</td>\n",
              "      <td>83.5329</td>\n",
              "      <td>85.4154</td>\n",
              "      <td>85.3988</td>\n",
              "      <td>85.2958</td>\n",
              "      <td>85.2671</td>\n",
              "      <td>0.0000</td>\n",
              "      <td>0.0000</td>\n",
              "      <td>0.0000</td>\n",
              "      <td>0.0000</td>\n",
              "      <td>0.0000</td>\n",
              "      <td>0.0000</td>\n",
              "      <td>0.0000</td>\n",
              "      <td>0.0000</td>\n",
              "      <td>0.0000</td>\n",
              "      <td>0.0000</td>\n",
              "      <td>0.0000</td>\n",
              "      <td>0.0000</td>\n",
              "      <td>0.0000</td>\n",
              "      <td>1</td>\n",
              "    </tr>\n",
              "    <tr>\n",
              "      <th>Х78</th>\n",
              "      <td>36.2121</td>\n",
              "      <td>42.1001</td>\n",
              "      <td>40.5414</td>\n",
              "      <td>39.7833</td>\n",
              "      <td>38.1221</td>\n",
              "      <td>37.4838</td>\n",
              "      <td>38.2488</td>\n",
              "      <td>42.2459</td>\n",
              "      <td>44.7818</td>\n",
              "      <td>44.5547</td>\n",
              "      <td>43.5542</td>\n",
              "      <td>44.2456</td>\n",
              "      <td>44.5408</td>\n",
              "      <td>46.38865</td>\n",
              "      <td>46.62190</td>\n",
              "      <td>45.41880</td>\n",
              "      <td>45.77800</td>\n",
              "      <td>46.69400</td>\n",
              "      <td>47.45245</td>\n",
              "      <td>45.71230</td>\n",
              "      <td>46.31740</td>\n",
              "      <td>44.79445</td>\n",
              "      <td>44.40445</td>\n",
              "      <td>45.35880</td>\n",
              "      <td>44.57570</td>\n",
              "      <td>44.86320</td>\n",
              "      <td>44.04280</td>\n",
              "      <td>44.47170</td>\n",
              "      <td>44.20410</td>\n",
              "      <td>45.64045</td>\n",
              "      <td>45.40620</td>\n",
              "      <td>45.19265</td>\n",
              "      <td>44.76415</td>\n",
              "      <td>46.4157</td>\n",
              "      <td>46.0243</td>\n",
              "      <td>46.10780</td>\n",
              "      <td>43.32680</td>\n",
              "      <td>43.0841</td>\n",
              "      <td>46.35455</td>\n",
              "      <td>46.2071</td>\n",
              "      <td>46.00015</td>\n",
              "      <td>46.8968</td>\n",
              "      <td>47.1069</td>\n",
              "      <td>47.1838</td>\n",
              "      <td>47.7408</td>\n",
              "      <td>50.47480</td>\n",
              "      <td>42.52205</td>\n",
              "      <td>42.44155</td>\n",
              "      <td>44.34415</td>\n",
              "      <td>43.1543</td>\n",
              "      <td>44.2588</td>\n",
              "      <td>46.3451</td>\n",
              "      <td>46.6745</td>\n",
              "      <td>47.6117</td>\n",
              "      <td>48.5376</td>\n",
              "      <td>49.1057</td>\n",
              "      <td>49.7531</td>\n",
              "      <td>46.4469</td>\n",
              "      <td>47.7433</td>\n",
              "      <td>49.6710</td>\n",
              "      <td>50.4336</td>\n",
              "      <td>52.2166</td>\n",
              "      <td>48.0703</td>\n",
              "      <td>51.5585</td>\n",
              "      <td>53.2382</td>\n",
              "      <td>55.6171</td>\n",
              "      <td>56.0589</td>\n",
              "      <td>56.4991</td>\n",
              "      <td>0</td>\n",
              "    </tr>\n",
              "    <tr>\n",
              "      <th>Д41.18</th>\n",
              "      <td>0.0000</td>\n",
              "      <td>0.0000</td>\n",
              "      <td>0.0000</td>\n",
              "      <td>0.0000</td>\n",
              "      <td>0.0000</td>\n",
              "      <td>0.0000</td>\n",
              "      <td>0.0000</td>\n",
              "      <td>0.0000</td>\n",
              "      <td>0.0000</td>\n",
              "      <td>0.0000</td>\n",
              "      <td>0.0000</td>\n",
              "      <td>0.0000</td>\n",
              "      <td>0.0000</td>\n",
              "      <td>0.00000</td>\n",
              "      <td>0.00000</td>\n",
              "      <td>0.00000</td>\n",
              "      <td>0.00000</td>\n",
              "      <td>0.00000</td>\n",
              "      <td>0.00000</td>\n",
              "      <td>18.87380</td>\n",
              "      <td>18.62770</td>\n",
              "      <td>17.95100</td>\n",
              "      <td>18.33120</td>\n",
              "      <td>17.57930</td>\n",
              "      <td>15.19930</td>\n",
              "      <td>16.26810</td>\n",
              "      <td>16.97280</td>\n",
              "      <td>17.25400</td>\n",
              "      <td>17.38340</td>\n",
              "      <td>17.36430</td>\n",
              "      <td>17.90650</td>\n",
              "      <td>18.02640</td>\n",
              "      <td>17.62260</td>\n",
              "      <td>17.8993</td>\n",
              "      <td>18.1944</td>\n",
              "      <td>18.24220</td>\n",
              "      <td>16.35150</td>\n",
              "      <td>16.341</td>\n",
              "      <td>16.47010</td>\n",
              "      <td>16.3284</td>\n",
              "      <td>15.71190</td>\n",
              "      <td>16.5802</td>\n",
              "      <td>16.1063</td>\n",
              "      <td>18.5272</td>\n",
              "      <td>18.1769</td>\n",
              "      <td>0.00000</td>\n",
              "      <td>0.00000</td>\n",
              "      <td>0.00000</td>\n",
              "      <td>0.00000</td>\n",
              "      <td>0.0000</td>\n",
              "      <td>0.0000</td>\n",
              "      <td>0.0000</td>\n",
              "      <td>0.0000</td>\n",
              "      <td>0.0000</td>\n",
              "      <td>0.0000</td>\n",
              "      <td>0.0000</td>\n",
              "      <td>0.0000</td>\n",
              "      <td>0.0000</td>\n",
              "      <td>0.0000</td>\n",
              "      <td>0.0000</td>\n",
              "      <td>0.0000</td>\n",
              "      <td>0.0000</td>\n",
              "      <td>0.0000</td>\n",
              "      <td>0.0000</td>\n",
              "      <td>0.0000</td>\n",
              "      <td>0.0000</td>\n",
              "      <td>0.0000</td>\n",
              "      <td>0.0000</td>\n",
              "      <td>1</td>\n",
              "    </tr>\n",
              "    <tr>\n",
              "      <th>Х234</th>\n",
              "      <td>59.6276</td>\n",
              "      <td>64.9156</td>\n",
              "      <td>60.8937</td>\n",
              "      <td>59.6871</td>\n",
              "      <td>59.9549</td>\n",
              "      <td>58.6547</td>\n",
              "      <td>58.6761</td>\n",
              "      <td>61.7672</td>\n",
              "      <td>64.9917</td>\n",
              "      <td>62.5854</td>\n",
              "      <td>59.0985</td>\n",
              "      <td>65.5899</td>\n",
              "      <td>65.1360</td>\n",
              "      <td>65.60250</td>\n",
              "      <td>63.65545</td>\n",
              "      <td>62.38830</td>\n",
              "      <td>61.38445</td>\n",
              "      <td>62.06835</td>\n",
              "      <td>61.19435</td>\n",
              "      <td>62.33195</td>\n",
              "      <td>61.68900</td>\n",
              "      <td>61.29980</td>\n",
              "      <td>60.26525</td>\n",
              "      <td>61.98555</td>\n",
              "      <td>59.44860</td>\n",
              "      <td>54.24375</td>\n",
              "      <td>53.58360</td>\n",
              "      <td>57.20835</td>\n",
              "      <td>58.85160</td>\n",
              "      <td>58.65215</td>\n",
              "      <td>58.72780</td>\n",
              "      <td>56.91710</td>\n",
              "      <td>56.90685</td>\n",
              "      <td>57.5422</td>\n",
              "      <td>56.6612</td>\n",
              "      <td>56.86050</td>\n",
              "      <td>57.02565</td>\n",
              "      <td>54.6637</td>\n",
              "      <td>54.78220</td>\n",
              "      <td>56.1726</td>\n",
              "      <td>57.64290</td>\n",
              "      <td>57.9173</td>\n",
              "      <td>58.4612</td>\n",
              "      <td>57.136</td>\n",
              "      <td>59.8567</td>\n",
              "      <td>59.82100</td>\n",
              "      <td>59.31900</td>\n",
              "      <td>59.25330</td>\n",
              "      <td>60.28905</td>\n",
              "      <td>55.6257</td>\n",
              "      <td>52.8781</td>\n",
              "      <td>57.4310</td>\n",
              "      <td>56.8884</td>\n",
              "      <td>55.7656</td>\n",
              "      <td>58.3988</td>\n",
              "      <td>57.8045</td>\n",
              "      <td>57.0066</td>\n",
              "      <td>60.4827</td>\n",
              "      <td>52.0188</td>\n",
              "      <td>54.7699</td>\n",
              "      <td>56.8364</td>\n",
              "      <td>46.3933</td>\n",
              "      <td>46.8091</td>\n",
              "      <td>58.3000</td>\n",
              "      <td>52.4643</td>\n",
              "      <td>53.7369</td>\n",
              "      <td>56.1660</td>\n",
              "      <td>54.7808</td>\n",
              "      <td>0</td>\n",
              "    </tr>\n",
              "    <tr>\n",
              "      <th>Д32.16</th>\n",
              "      <td>0.0000</td>\n",
              "      <td>0.0000</td>\n",
              "      <td>0.0000</td>\n",
              "      <td>0.0000</td>\n",
              "      <td>0.0000</td>\n",
              "      <td>0.0000</td>\n",
              "      <td>0.0000</td>\n",
              "      <td>0.0000</td>\n",
              "      <td>0.0000</td>\n",
              "      <td>0.0000</td>\n",
              "      <td>0.0000</td>\n",
              "      <td>0.0000</td>\n",
              "      <td>0.0000</td>\n",
              "      <td>0.00000</td>\n",
              "      <td>0.00000</td>\n",
              "      <td>0.00000</td>\n",
              "      <td>0.00000</td>\n",
              "      <td>0.00000</td>\n",
              "      <td>0.00000</td>\n",
              "      <td>34.77010</td>\n",
              "      <td>35.73050</td>\n",
              "      <td>0.00000</td>\n",
              "      <td>0.00000</td>\n",
              "      <td>0.00000</td>\n",
              "      <td>0.00000</td>\n",
              "      <td>0.00000</td>\n",
              "      <td>0.00000</td>\n",
              "      <td>0.00000</td>\n",
              "      <td>0.00000</td>\n",
              "      <td>0.00000</td>\n",
              "      <td>0.00000</td>\n",
              "      <td>0.00000</td>\n",
              "      <td>0.00000</td>\n",
              "      <td>0</td>\n",
              "      <td>0</td>\n",
              "      <td>0.00000</td>\n",
              "      <td>0.00000</td>\n",
              "      <td>0</td>\n",
              "      <td>0.00000</td>\n",
              "      <td>0</td>\n",
              "      <td>0.00000</td>\n",
              "      <td>0.0000</td>\n",
              "      <td>0</td>\n",
              "      <td>0</td>\n",
              "      <td>0</td>\n",
              "      <td>0.00000</td>\n",
              "      <td>0.00000</td>\n",
              "      <td>0.00000</td>\n",
              "      <td>0.00000</td>\n",
              "      <td>0.0000</td>\n",
              "      <td>0.0000</td>\n",
              "      <td>0.0000</td>\n",
              "      <td>0.0000</td>\n",
              "      <td>0.0000</td>\n",
              "      <td>0.0000</td>\n",
              "      <td>0.0000</td>\n",
              "      <td>0.0000</td>\n",
              "      <td>0.0000</td>\n",
              "      <td>0.0000</td>\n",
              "      <td>0.0000</td>\n",
              "      <td>0.0000</td>\n",
              "      <td>0.0000</td>\n",
              "      <td>0.0000</td>\n",
              "      <td>0.0000</td>\n",
              "      <td>0.0000</td>\n",
              "      <td>0.0000</td>\n",
              "      <td>0.0000</td>\n",
              "      <td>0.0000</td>\n",
              "      <td>1</td>\n",
              "    </tr>\n",
              "    <tr>\n",
              "      <th>...</th>\n",
              "      <td>...</td>\n",
              "      <td>...</td>\n",
              "      <td>...</td>\n",
              "      <td>...</td>\n",
              "      <td>...</td>\n",
              "      <td>...</td>\n",
              "      <td>...</td>\n",
              "      <td>...</td>\n",
              "      <td>...</td>\n",
              "      <td>...</td>\n",
              "      <td>...</td>\n",
              "      <td>...</td>\n",
              "      <td>...</td>\n",
              "      <td>...</td>\n",
              "      <td>...</td>\n",
              "      <td>...</td>\n",
              "      <td>...</td>\n",
              "      <td>...</td>\n",
              "      <td>...</td>\n",
              "      <td>...</td>\n",
              "      <td>...</td>\n",
              "      <td>...</td>\n",
              "      <td>...</td>\n",
              "      <td>...</td>\n",
              "      <td>...</td>\n",
              "      <td>...</td>\n",
              "      <td>...</td>\n",
              "      <td>...</td>\n",
              "      <td>...</td>\n",
              "      <td>...</td>\n",
              "      <td>...</td>\n",
              "      <td>...</td>\n",
              "      <td>...</td>\n",
              "      <td>...</td>\n",
              "      <td>...</td>\n",
              "      <td>...</td>\n",
              "      <td>...</td>\n",
              "      <td>...</td>\n",
              "      <td>...</td>\n",
              "      <td>...</td>\n",
              "      <td>...</td>\n",
              "      <td>...</td>\n",
              "      <td>...</td>\n",
              "      <td>...</td>\n",
              "      <td>...</td>\n",
              "      <td>...</td>\n",
              "      <td>...</td>\n",
              "      <td>...</td>\n",
              "      <td>...</td>\n",
              "      <td>...</td>\n",
              "      <td>...</td>\n",
              "      <td>...</td>\n",
              "      <td>...</td>\n",
              "      <td>...</td>\n",
              "      <td>...</td>\n",
              "      <td>...</td>\n",
              "      <td>...</td>\n",
              "      <td>...</td>\n",
              "      <td>...</td>\n",
              "      <td>...</td>\n",
              "      <td>...</td>\n",
              "      <td>...</td>\n",
              "      <td>...</td>\n",
              "      <td>...</td>\n",
              "      <td>...</td>\n",
              "      <td>...</td>\n",
              "      <td>...</td>\n",
              "      <td>...</td>\n",
              "      <td>...</td>\n",
              "    </tr>\n",
              "    <tr>\n",
              "      <th>Х225</th>\n",
              "      <td>0.0000</td>\n",
              "      <td>0.0000</td>\n",
              "      <td>0.0000</td>\n",
              "      <td>0.0000</td>\n",
              "      <td>0.0000</td>\n",
              "      <td>0.0000</td>\n",
              "      <td>0.0000</td>\n",
              "      <td>0.0000</td>\n",
              "      <td>0.0000</td>\n",
              "      <td>0.0000</td>\n",
              "      <td>0.0000</td>\n",
              "      <td>0.0000</td>\n",
              "      <td>0.0000</td>\n",
              "      <td>0.00000</td>\n",
              "      <td>0.00000</td>\n",
              "      <td>0.00000</td>\n",
              "      <td>0.00000</td>\n",
              "      <td>0.00000</td>\n",
              "      <td>0.00000</td>\n",
              "      <td>0.00000</td>\n",
              "      <td>0.00000</td>\n",
              "      <td>0.00000</td>\n",
              "      <td>0.00000</td>\n",
              "      <td>0.00000</td>\n",
              "      <td>0.00000</td>\n",
              "      <td>0.00000</td>\n",
              "      <td>0.00000</td>\n",
              "      <td>0.00000</td>\n",
              "      <td>0.00000</td>\n",
              "      <td>0.00000</td>\n",
              "      <td>0.00000</td>\n",
              "      <td>0.00000</td>\n",
              "      <td>0.00000</td>\n",
              "      <td>0</td>\n",
              "      <td>0</td>\n",
              "      <td>0.00000</td>\n",
              "      <td>0.00000</td>\n",
              "      <td>0</td>\n",
              "      <td>0.00000</td>\n",
              "      <td>0</td>\n",
              "      <td>0.00000</td>\n",
              "      <td>0.0000</td>\n",
              "      <td>0</td>\n",
              "      <td>0</td>\n",
              "      <td>0</td>\n",
              "      <td>0.00000</td>\n",
              "      <td>0.00000</td>\n",
              "      <td>0.00000</td>\n",
              "      <td>0.00000</td>\n",
              "      <td>0.0000</td>\n",
              "      <td>7.3552</td>\n",
              "      <td>6.3197</td>\n",
              "      <td>6.2432</td>\n",
              "      <td>5.8451</td>\n",
              "      <td>5.6027</td>\n",
              "      <td>5.0992</td>\n",
              "      <td>4.8671</td>\n",
              "      <td>4.5943</td>\n",
              "      <td>4.3431</td>\n",
              "      <td>4.3095</td>\n",
              "      <td>4.4681</td>\n",
              "      <td>4.0046</td>\n",
              "      <td>4.4152</td>\n",
              "      <td>4.1642</td>\n",
              "      <td>3.7896</td>\n",
              "      <td>3.5992</td>\n",
              "      <td>3.2770</td>\n",
              "      <td>3.0252</td>\n",
              "      <td>0</td>\n",
              "    </tr>\n",
              "    <tr>\n",
              "      <th>Д40.18</th>\n",
              "      <td>0.0000</td>\n",
              "      <td>0.0000</td>\n",
              "      <td>0.0000</td>\n",
              "      <td>0.0000</td>\n",
              "      <td>0.0000</td>\n",
              "      <td>0.0000</td>\n",
              "      <td>0.0000</td>\n",
              "      <td>0.0000</td>\n",
              "      <td>0.0000</td>\n",
              "      <td>0.0000</td>\n",
              "      <td>0.0000</td>\n",
              "      <td>0.0000</td>\n",
              "      <td>0.0000</td>\n",
              "      <td>0.00000</td>\n",
              "      <td>0.00000</td>\n",
              "      <td>0.00000</td>\n",
              "      <td>0.00000</td>\n",
              "      <td>0.00000</td>\n",
              "      <td>0.00000</td>\n",
              "      <td>24.93330</td>\n",
              "      <td>25.95900</td>\n",
              "      <td>23.28290</td>\n",
              "      <td>24.11730</td>\n",
              "      <td>26.09130</td>\n",
              "      <td>24.41940</td>\n",
              "      <td>21.53080</td>\n",
              "      <td>21.42850</td>\n",
              "      <td>22.62730</td>\n",
              "      <td>19.27260</td>\n",
              "      <td>19.68930</td>\n",
              "      <td>19.18310</td>\n",
              "      <td>21.76140</td>\n",
              "      <td>20.07950</td>\n",
              "      <td>20.191</td>\n",
              "      <td>20.2859</td>\n",
              "      <td>20.85690</td>\n",
              "      <td>21.70680</td>\n",
              "      <td>21.4505</td>\n",
              "      <td>20.24790</td>\n",
              "      <td>0</td>\n",
              "      <td>0.00000</td>\n",
              "      <td>0.0000</td>\n",
              "      <td>0</td>\n",
              "      <td>0</td>\n",
              "      <td>0</td>\n",
              "      <td>0.00000</td>\n",
              "      <td>0.00000</td>\n",
              "      <td>0.00000</td>\n",
              "      <td>0.00000</td>\n",
              "      <td>0.0000</td>\n",
              "      <td>0.0000</td>\n",
              "      <td>0.0000</td>\n",
              "      <td>0.0000</td>\n",
              "      <td>0.0000</td>\n",
              "      <td>0.0000</td>\n",
              "      <td>0.0000</td>\n",
              "      <td>0.0000</td>\n",
              "      <td>0.0000</td>\n",
              "      <td>0.0000</td>\n",
              "      <td>0.0000</td>\n",
              "      <td>0.0000</td>\n",
              "      <td>0.0000</td>\n",
              "      <td>0.0000</td>\n",
              "      <td>0.0000</td>\n",
              "      <td>0.0000</td>\n",
              "      <td>0.0000</td>\n",
              "      <td>0.0000</td>\n",
              "      <td>0.0000</td>\n",
              "      <td>1</td>\n",
              "    </tr>\n",
              "    <tr>\n",
              "      <th>Х107</th>\n",
              "      <td>0.0000</td>\n",
              "      <td>0.0000</td>\n",
              "      <td>0.0000</td>\n",
              "      <td>0.0000</td>\n",
              "      <td>0.0000</td>\n",
              "      <td>0.0000</td>\n",
              "      <td>0.0000</td>\n",
              "      <td>0.0000</td>\n",
              "      <td>0.0000</td>\n",
              "      <td>0.0000</td>\n",
              "      <td>0.0000</td>\n",
              "      <td>0.0000</td>\n",
              "      <td>25.2046</td>\n",
              "      <td>25.65540</td>\n",
              "      <td>24.60920</td>\n",
              "      <td>22.93575</td>\n",
              "      <td>22.62365</td>\n",
              "      <td>23.86385</td>\n",
              "      <td>21.61625</td>\n",
              "      <td>22.78480</td>\n",
              "      <td>22.58320</td>\n",
              "      <td>21.79270</td>\n",
              "      <td>21.54470</td>\n",
              "      <td>22.04300</td>\n",
              "      <td>20.66510</td>\n",
              "      <td>20.41890</td>\n",
              "      <td>19.73815</td>\n",
              "      <td>19.33735</td>\n",
              "      <td>19.55115</td>\n",
              "      <td>19.23275</td>\n",
              "      <td>20.01350</td>\n",
              "      <td>20.16120</td>\n",
              "      <td>19.86175</td>\n",
              "      <td>19.7473</td>\n",
              "      <td>19.6756</td>\n",
              "      <td>19.64405</td>\n",
              "      <td>19.46620</td>\n",
              "      <td>19.0966</td>\n",
              "      <td>18.08590</td>\n",
              "      <td>18.51</td>\n",
              "      <td>19.78635</td>\n",
              "      <td>18.8606</td>\n",
              "      <td>18.9021</td>\n",
              "      <td>18.8468</td>\n",
              "      <td>21.7785</td>\n",
              "      <td>21.15405</td>\n",
              "      <td>21.15280</td>\n",
              "      <td>21.32865</td>\n",
              "      <td>22.10450</td>\n",
              "      <td>21.1399</td>\n",
              "      <td>20.9660</td>\n",
              "      <td>20.7335</td>\n",
              "      <td>20.6272</td>\n",
              "      <td>20.8217</td>\n",
              "      <td>20.0446</td>\n",
              "      <td>20.0114</td>\n",
              "      <td>20.8656</td>\n",
              "      <td>20.2942</td>\n",
              "      <td>20.2439</td>\n",
              "      <td>19.9749</td>\n",
              "      <td>19.5344</td>\n",
              "      <td>19.8354</td>\n",
              "      <td>20.5471</td>\n",
              "      <td>23.2867</td>\n",
              "      <td>21.9390</td>\n",
              "      <td>21.4882</td>\n",
              "      <td>21.2299</td>\n",
              "      <td>22.0476</td>\n",
              "      <td>0</td>\n",
              "    </tr>\n",
              "    <tr>\n",
              "      <th>Х337</th>\n",
              "      <td>42.4862</td>\n",
              "      <td>44.6564</td>\n",
              "      <td>44.3571</td>\n",
              "      <td>44.9355</td>\n",
              "      <td>43.4745</td>\n",
              "      <td>44.3714</td>\n",
              "      <td>44.9880</td>\n",
              "      <td>45.6139</td>\n",
              "      <td>49.1464</td>\n",
              "      <td>60.8147</td>\n",
              "      <td>60.4742</td>\n",
              "      <td>58.6108</td>\n",
              "      <td>64.0206</td>\n",
              "      <td>64.94480</td>\n",
              "      <td>64.43615</td>\n",
              "      <td>63.30070</td>\n",
              "      <td>64.75280</td>\n",
              "      <td>67.62340</td>\n",
              "      <td>50.37695</td>\n",
              "      <td>52.93260</td>\n",
              "      <td>53.92415</td>\n",
              "      <td>55.08355</td>\n",
              "      <td>55.62030</td>\n",
              "      <td>55.29445</td>\n",
              "      <td>57.86255</td>\n",
              "      <td>58.11930</td>\n",
              "      <td>58.88220</td>\n",
              "      <td>57.00165</td>\n",
              "      <td>56.69820</td>\n",
              "      <td>57.45240</td>\n",
              "      <td>29.42455</td>\n",
              "      <td>29.47795</td>\n",
              "      <td>30.43205</td>\n",
              "      <td>29.988</td>\n",
              "      <td>29.9243</td>\n",
              "      <td>30.51330</td>\n",
              "      <td>30.73500</td>\n",
              "      <td>31.5538</td>\n",
              "      <td>32.12170</td>\n",
              "      <td>32.3952</td>\n",
              "      <td>32.84585</td>\n",
              "      <td>32.9850</td>\n",
              "      <td>32.6307</td>\n",
              "      <td>32.6294</td>\n",
              "      <td>32.7013</td>\n",
              "      <td>31.37005</td>\n",
              "      <td>31.16705</td>\n",
              "      <td>31.59290</td>\n",
              "      <td>31.89685</td>\n",
              "      <td>32.6588</td>\n",
              "      <td>33.2347</td>\n",
              "      <td>32.6722</td>\n",
              "      <td>32.9272</td>\n",
              "      <td>32.9069</td>\n",
              "      <td>32.9442</td>\n",
              "      <td>32.1595</td>\n",
              "      <td>32.8529</td>\n",
              "      <td>32.9167</td>\n",
              "      <td>32.7423</td>\n",
              "      <td>31.1992</td>\n",
              "      <td>31.7680</td>\n",
              "      <td>31.7436</td>\n",
              "      <td>31.8291</td>\n",
              "      <td>32.0276</td>\n",
              "      <td>32.0534</td>\n",
              "      <td>33.6896</td>\n",
              "      <td>33.1133</td>\n",
              "      <td>33.3720</td>\n",
              "      <td>0</td>\n",
              "    </tr>\n",
              "    <tr>\n",
              "      <th>Х101</th>\n",
              "      <td>16.4514</td>\n",
              "      <td>16.7451</td>\n",
              "      <td>17.1603</td>\n",
              "      <td>17.6862</td>\n",
              "      <td>2.8618</td>\n",
              "      <td>2.9647</td>\n",
              "      <td>2.9919</td>\n",
              "      <td>3.0257</td>\n",
              "      <td>3.0217</td>\n",
              "      <td>3.0158</td>\n",
              "      <td>0.0000</td>\n",
              "      <td>0.0000</td>\n",
              "      <td>0.0000</td>\n",
              "      <td>0.00000</td>\n",
              "      <td>0.00000</td>\n",
              "      <td>0.00000</td>\n",
              "      <td>0.00000</td>\n",
              "      <td>0.00000</td>\n",
              "      <td>0.00000</td>\n",
              "      <td>0.00000</td>\n",
              "      <td>0.00000</td>\n",
              "      <td>0.00000</td>\n",
              "      <td>0.00000</td>\n",
              "      <td>0.00000</td>\n",
              "      <td>0.00000</td>\n",
              "      <td>0.00000</td>\n",
              "      <td>0.00000</td>\n",
              "      <td>0.00000</td>\n",
              "      <td>0.00000</td>\n",
              "      <td>0.00000</td>\n",
              "      <td>0.00000</td>\n",
              "      <td>0.00000</td>\n",
              "      <td>0.00000</td>\n",
              "      <td>0</td>\n",
              "      <td>0</td>\n",
              "      <td>0.00000</td>\n",
              "      <td>0.00000</td>\n",
              "      <td>0</td>\n",
              "      <td>21.83065</td>\n",
              "      <td>23.3897</td>\n",
              "      <td>23.20225</td>\n",
              "      <td>23.0335</td>\n",
              "      <td>23.1281</td>\n",
              "      <td>23.1932</td>\n",
              "      <td>22.9555</td>\n",
              "      <td>22.91115</td>\n",
              "      <td>23.41350</td>\n",
              "      <td>23.38130</td>\n",
              "      <td>23.31865</td>\n",
              "      <td>22.8902</td>\n",
              "      <td>22.4251</td>\n",
              "      <td>22.4323</td>\n",
              "      <td>22.1889</td>\n",
              "      <td>23.1463</td>\n",
              "      <td>23.5320</td>\n",
              "      <td>22.9138</td>\n",
              "      <td>21.2022</td>\n",
              "      <td>21.5491</td>\n",
              "      <td>21.5310</td>\n",
              "      <td>20.6409</td>\n",
              "      <td>20.7198</td>\n",
              "      <td>20.6219</td>\n",
              "      <td>20.1150</td>\n",
              "      <td>24.8307</td>\n",
              "      <td>24.5294</td>\n",
              "      <td>25.9231</td>\n",
              "      <td>25.1694</td>\n",
              "      <td>25.8620</td>\n",
              "      <td>0</td>\n",
              "    </tr>\n",
              "  </tbody>\n",
              "</table>\n",
              "<p>332 rows × 69 columns</p>\n",
              "</div>"
            ],
            "text/plain": [
              "                          2015-01-01 00:00:00  ...  label\n",
              "Наименование организации                       ...       \n",
              "Д17.19                                 0.0000  ...      1\n",
              "Х78                                   36.2121  ...      0\n",
              "Д41.18                                 0.0000  ...      1\n",
              "Х234                                  59.6276  ...      0\n",
              "Д32.16                                 0.0000  ...      1\n",
              "...                                       ...  ...    ...\n",
              "Х225                                   0.0000  ...      0\n",
              "Д40.18                                 0.0000  ...      1\n",
              "Х107                                   0.0000  ...      0\n",
              "Х337                                  42.4862  ...      0\n",
              "Х101                                  16.4514  ...      0\n",
              "\n",
              "[332 rows x 69 columns]"
            ]
          },
          "metadata": {
            "tags": []
          },
          "execution_count": 22
        }
      ]
    },
    {
      "cell_type": "code",
      "metadata": {
        "id": "sY9_gAu5Zp_X"
      },
      "source": [
        "\n"
      ],
      "execution_count": 22,
      "outputs": []
    },
    {
      "cell_type": "code",
      "metadata": {
        "id": "yg2Kp-T958Pm"
      },
      "source": [
        "y_name='label'\n",
        "X = df_sh[df_sh.columns.difference([y_name])]\n",
        "y = df_sh[y_name]\n"
      ],
      "execution_count": 23,
      "outputs": []
    },
    {
      "cell_type": "code",
      "metadata": {
        "id": "0azYwcxSuXsU"
      },
      "source": [
        ""
      ],
      "execution_count": 23,
      "outputs": []
    },
    {
      "cell_type": "code",
      "metadata": {
        "id": "caA9ME_J8qgi"
      },
      "source": [
        "X.columns=['X'+str(i) for i in range(len(X.columns))]"
      ],
      "execution_count": 24,
      "outputs": []
    },
    {
      "cell_type": "code",
      "metadata": {
        "id": "exbjXbhBrzM3"
      },
      "source": [
        ""
      ],
      "execution_count": 24,
      "outputs": []
    },
    {
      "cell_type": "code",
      "metadata": {
        "id": "24gxvJm0-rIk",
        "outputId": "caf8115d-e719-4c79-9a53-358e577b6ba0",
        "colab": {
          "base_uri": "https://localhost:8080/"
        }
      },
      "source": [
        "for column in X.columns:\n",
        "  X[column]=pd.to_numeric(X[column])"
      ],
      "execution_count": 25,
      "outputs": [
        {
          "output_type": "stream",
          "text": [
            "/usr/local/lib/python3.6/dist-packages/ipykernel_launcher.py:2: SettingWithCopyWarning: \n",
            "A value is trying to be set on a copy of a slice from a DataFrame.\n",
            "Try using .loc[row_indexer,col_indexer] = value instead\n",
            "\n",
            "See the caveats in the documentation: https://pandas.pydata.org/pandas-docs/stable/user_guide/indexing.html#returning-a-view-versus-a-copy\n",
            "  \n"
          ],
          "name": "stderr"
        }
      ]
    },
    {
      "cell_type": "code",
      "metadata": {
        "id": "LhGTuhd7qi8g"
      },
      "source": [
        "X = X[X.columns[-10:]]"
      ],
      "execution_count": 26,
      "outputs": []
    },
    {
      "cell_type": "code",
      "metadata": {
        "id": "vwRcd4MuuWaM"
      },
      "source": [
        "\n"
      ],
      "execution_count": 26,
      "outputs": []
    },
    {
      "cell_type": "code",
      "metadata": {
        "id": "Wc69keCUruiA"
      },
      "source": [
        ""
      ],
      "execution_count": 26,
      "outputs": []
    },
    {
      "cell_type": "code",
      "metadata": {
        "id": "zVwhJNWeBxHm"
      },
      "source": [
        "def test_train(X, y, ratio=0.2,random_state=100):\n",
        "\t\tfrom sklearn.model_selection import train_test_split\n",
        "\t\ttrain_X, test_X, train_y, test_y = train_test_split(X, y, test_size=ratio)\n",
        "\t\treturn train_X, test_X, train_y, test_y "
      ],
      "execution_count": 27,
      "outputs": []
    },
    {
      "cell_type": "code",
      "metadata": {
        "id": "NSua3-o35Kyt"
      },
      "source": [
        "train_X, test_X, train_y, test_y  = train_test_split(X, y, test_size=0.3)"
      ],
      "execution_count": 28,
      "outputs": []
    },
    {
      "cell_type": "code",
      "metadata": {
        "id": "LQMn7NcU4gxk"
      },
      "source": [
        ""
      ],
      "execution_count": 28,
      "outputs": []
    },
    {
      "cell_type": "code",
      "metadata": {
        "id": "b-GqehlZ7HoM"
      },
      "source": [
        "model = xgb.XGBClassifier()\n",
        "model2 = RandomForestClassifier()"
      ],
      "execution_count": 29,
      "outputs": []
    },
    {
      "cell_type": "code",
      "metadata": {
        "id": "xRsOpKpt7zZE"
      },
      "source": [
        "model = model.fit(train_X, train_y)\n",
        "predictions = model.predict(test_X)\n",
        "\n",
        "model2 = model2.fit(train_X, train_y)\n",
        "predictions2 = model2.predict(test_X)"
      ],
      "execution_count": 30,
      "outputs": []
    },
    {
      "cell_type": "code",
      "metadata": {
        "id": "XBc7m2nI5azY",
        "outputId": "c580e60a-0d00-4ab5-99a9-08367727ed7d",
        "colab": {
          "base_uri": "https://localhost:8080/"
        }
      },
      "source": [
        "from sklearn import model_selection\n",
        "from sklearn.model_selection import KFold\n",
        "kfold = model_selection.KFold(n_splits=10, random_state=100)\n",
        "model_kfold = model\n",
        "results_kfold = model_selection.cross_val_score(model_kfold, X, y, cv=kfold)\n",
        "print(\"Accuracy: %.2f%%\" % (results_kfold.mean()*100.0))"
      ],
      "execution_count": 31,
      "outputs": [
        {
          "output_type": "stream",
          "text": [
            "/usr/local/lib/python3.6/dist-packages/sklearn/model_selection/_split.py:296: FutureWarning: Setting a random_state has no effect since shuffle is False. This will raise an error in 0.24. You should leave random_state to its default (None), or set shuffle=True.\n",
            "  FutureWarning\n"
          ],
          "name": "stderr"
        },
        {
          "output_type": "stream",
          "text": [
            "Accuracy: 87.33%\n"
          ],
          "name": "stdout"
        }
      ]
    },
    {
      "cell_type": "code",
      "metadata": {
        "id": "B8gXDqv052TI",
        "outputId": "5db70350-b525-4f0c-b11a-99deb7018dbc",
        "colab": {
          "base_uri": "https://localhost:8080/"
        }
      },
      "source": [
        "from sklearn import model_selection\n",
        "from sklearn.model_selection import KFold\n",
        "kfold = model_selection.KFold(n_splits=10, random_state=100)\n",
        "model_kfold = model2\n",
        "results_kfold = model_selection.cross_val_score(model_kfold, X, y, cv=kfold)\n",
        "print(\"Accuracy: %.2f%%\" % (results_kfold.mean()*100.0))"
      ],
      "execution_count": 32,
      "outputs": [
        {
          "output_type": "stream",
          "text": [
            "/usr/local/lib/python3.6/dist-packages/sklearn/model_selection/_split.py:296: FutureWarning: Setting a random_state has no effect since shuffle is False. This will raise an error in 0.24. You should leave random_state to its default (None), or set shuffle=True.\n",
            "  FutureWarning\n"
          ],
          "name": "stderr"
        },
        {
          "output_type": "stream",
          "text": [
            "Accuracy: 87.93%\n"
          ],
          "name": "stdout"
        }
      ]
    },
    {
      "cell_type": "code",
      "metadata": {
        "id": "7SODk1z7CpeF"
      },
      "source": [
        "from sklearn.metrics import roc_curve, auc,roc_auc_score"
      ],
      "execution_count": 33,
      "outputs": []
    },
    {
      "cell_type": "code",
      "metadata": {
        "id": "2t6bpZ_LAqdn"
      },
      "source": [
        "def plot_roc_curve(clf, train_X, train_y, test_X):\n",
        "\t\tpredictions = clf.fit(train_X, train_y).predict(test_X)\n",
        "\t\tfp, tp, th = roc_curve(test_y, predictions)\n",
        "\t\troc_auc_mla = auc(fp, tp)\n",
        "\t\tplt.plot(fp, tp, lw=2, alpha=0.3)\n",
        "\t\tplt.title('ROC Curve comparison')\n",
        "\t\tplt.legend(bbox_to_anchor=(1.05, 1), loc=2, borderaxespad=0.)\n",
        "\t\tplt.plot([0,1],[0,1],'r--')\n",
        "\t\tplt.xlim([0,1])\n",
        "\t\tplt.ylim([0,1])\n",
        "\t\tplt.ylabel('True Positive Rate')\n",
        "\t\tplt.xlabel('False Positive Rate')    \n",
        "\t\tplt.show()"
      ],
      "execution_count": 34,
      "outputs": []
    },
    {
      "cell_type": "code",
      "metadata": {
        "id": "Ry00U6TU8eWf",
        "outputId": "956ba38a-7a7e-459b-f7b0-efb73da6c31f",
        "colab": {
          "base_uri": "https://localhost:8080/",
          "height": 312
        }
      },
      "source": [
        "plot_roc_curve(model2, train_X, train_y, test_X)"
      ],
      "execution_count": 35,
      "outputs": [
        {
          "output_type": "stream",
          "text": [
            "No handles with labels found to put in legend.\n"
          ],
          "name": "stderr"
        },
        {
          "output_type": "display_data",
          "data": {
            "image/png": "[encoded data removed]",
            "text/plain": [
              "<Figure size 432x288 with 1 Axes>"
            ]
          },
          "metadata": {
            "tags": [],
            "needs_background": "light"
          }
        }
      ]
    },
    {
      "cell_type": "code",
      "metadata": {
        "id": "JdRImEXuHfxu",
        "outputId": "53db760a-ac74-416a-9b5e-ae2e5c46fba8",
        "colab": {
          "base_uri": "https://localhost:8080/",
          "height": 312
        }
      },
      "source": [
        "plot_roc_curve(model, train_X, train_y, test_X)"
      ],
      "execution_count": 36,
      "outputs": [
        {
          "output_type": "stream",
          "text": [
            "No handles with labels found to put in legend.\n"
          ],
          "name": "stderr"
        },
        {
          "output_type": "display_data",
          "data": {
            "image/png": "[encoded data removed]",
            "text/plain": [
              "<Figure size 432x288 with 1 Axes>"
            ]
          },
          "metadata": {
            "tags": [],
            "needs_background": "light"
          }
        }
      ]
    },
    {
      "cell_type": "code",
      "metadata": {
        "id": "eYfb5QwiDUu2",
        "outputId": "a95c2f10-c320-4eef-942b-a5141219c5c7",
        "colab": {
          "base_uri": "https://localhost:8080/"
        }
      },
      "source": [
        "roc_auc_score(test_y, predictions)\n"
      ],
      "execution_count": 37,
      "outputs": [
        {
          "output_type": "execute_result",
          "data": {
            "text/plain": [
              "0.9"
            ]
          },
          "metadata": {
            "tags": []
          },
          "execution_count": 37
        }
      ]
    },
    {
      "cell_type": "code",
      "metadata": {
        "id": "eonqvz7QDGno"
      },
      "source": [
        "def confusion_matrix(clf, train_X, train_y, test_y,test_X):\n",
        "\t\tclf = clf.fit(train_X, train_y)\n",
        "\t\tpredictions = clf.predict(test_X)\n",
        "\n",
        "\t\tfrom sklearn.metrics import classification_report\n",
        "\t\tprint(classification_report(test_y, predictions))"
      ],
      "execution_count": 38,
      "outputs": []
    },
    {
      "cell_type": "code",
      "metadata": {
        "id": "5ZDQdBdZDIvH",
        "outputId": "4481bb74-6564-45f9-9428-f8d4e538e5b7",
        "colab": {
          "base_uri": "https://localhost:8080/"
        }
      },
      "source": [
        "confusion_matrix(model2, train_X, train_y, test_y,test_X)"
      ],
      "execution_count": 39,
      "outputs": [
        {
          "output_type": "stream",
          "text": [
            "              precision    recall  f1-score   support\n",
            "\n",
            "           0       0.97      0.88      0.92        75\n",
            "           1       0.72      0.92      0.81        25\n",
            "\n",
            "    accuracy                           0.89       100\n",
            "   macro avg       0.84      0.90      0.87       100\n",
            "weighted avg       0.91      0.89      0.89       100\n",
            "\n"
          ],
          "name": "stdout"
        }
      ]
    },
    {
      "cell_type": "code",
      "metadata": {
        "id": "pQASmhO7rsJn"
      },
      "source": [
        ""
      ],
      "execution_count": 39,
      "outputs": []
    },
    {
      "cell_type": "code",
      "metadata": {
        "id": "b85VFxHxGaty",
        "outputId": "cde1d82f-d7c4-4180-fd14-f5169ebceed0",
        "colab": {
          "base_uri": "https://localhost:8080/",
          "height": 407
        }
      },
      "source": [
        "#Visualize the CAP Curve Analysis including all classification models\n",
        "y_pred_xgb= predictions\n",
        "y_pred_rf= predictions2\n",
        "total = len(test_y) \n",
        "one_count = np.sum(test_y) \n",
        "zero_count = total - one_count \n",
        "lm_rf = [y for _, y in sorted(zip(y_pred_rf, test_y), reverse = True)]\n",
        "lm_xgb = [y for _, y in sorted(zip(y_pred_xgb, test_y), reverse = True)] \n",
        "\n",
        "x = np.arange(0, total + 1) \n",
        "y_rf = np.append([0], np.cumsum(lm_rf)) \n",
        "y_xgb = np.append([0], np.cumsum(lm_xgb)) \n",
        " \n",
        "plt.figure(figsize = (10, 6)) \n",
        "plt.plot([0, total], [0, one_count], c = 'b', linestyle = '--', label = 'Random Model')\n",
        "plt.plot([0, one_count, total], [0, one_count, one_count], c = 'grey', linewidth = 2, label = 'Perfect Model')\n",
        "plt.title('CAP Curve of Classifiers')\n",
        "plt.plot(x, y_rf, c = 'b', label = 'RF classifier', linewidth = 2)\n",
        "plt.plot(x, y_xgb, c = 'r', label = 'xgb classifier', linewidth = 2)\n",
        "\n",
        "plt.legend()\n"
      ],
      "execution_count": 40,
      "outputs": [
        {
          "output_type": "execute_result",
          "data": {
            "text/plain": [
              "<matplotlib.legend.Legend at 0x7fc04d325e10>"
            ]
          },
          "metadata": {
            "tags": []
          },
          "execution_count": 40
        },
        {
          "output_type": "display_data",
          "data": {
            "image/png": "[encoded data removed]",
            "text/plain": [
              "<Figure size 720x432 with 1 Axes>"
            ]
          },
          "metadata": {
            "tags": [],
            "needs_background": "light"
          }
        }
      ]
    },
    {
      "cell_type": "code",
      "metadata": {
        "id": "JbK58vNHJ0dO"
      },
      "source": [
        "#AR\n"
      ],
      "execution_count": 41,
      "outputs": []
    },
    {
      "cell_type": "code",
      "metadata": {
        "id": "XaFvqoW7k0g3"
      },
      "source": [
        "y_preds_proba = model2.predict_proba(test_X)\n",
        "y_values=test_y\n",
        "\n",
        "\n",
        "\n",
        "def capcurve(y_values, y_preds_proba):\n",
        "    num_pos_obs = np.sum(y_values)\n",
        "    num_count = len(y_values)\n",
        "    rate_pos_obs = float(num_pos_obs) / float(num_count)\n",
        "    ideal = pd.DataFrame({'x':[0,rate_pos_obs,1],'y':[0,1,1]})\n",
        "    xx = np.arange(num_count) / float(num_count - 1)\n",
        "    \n",
        "    y_cap = np.c_[y_values,y_preds_proba]\n",
        "    y_cap_df_s = pd.DataFrame(data=y_cap)\n",
        "    y_cap_df_s = y_cap_df_s.sort_values([1], ascending=False).reset_index(level = y_cap_df_s.index.names, drop=True)\n",
        "    \n",
        "    # print(y_cap_df_s.head(20))\n",
        "    \n",
        "    yy = np.cumsum(y_cap_df_s[0]) / float(num_pos_obs)\n",
        "    yy = np.append([0], yy[0:num_count-1]) #add the first curve point (0,0) : for xx=0 we have yy=0\n",
        "    \n",
        "    percent = 0.5\n",
        "    row_index = int(np.trunc(num_count * percent))\n",
        "    \n",
        "    val_y1 = yy[row_index]\n",
        "    val_y2 = yy[row_index+1]\n",
        "    if val_y1 == val_y2:\n",
        "        val = val_y1*1.0\n",
        "    else:\n",
        "        val_x1 = xx[row_index]\n",
        "        val_x2 = xx[row_index+1]\n",
        "        val = val_y1 + ((val_x2 - percent)/(val_x2 - val_x1))*(val_y2 - val_y1)\n",
        "    \n",
        "    sigma_ideal = 1 * xx[num_pos_obs - 1 ] / 2 + (xx[num_count - 1] - xx[num_pos_obs]) * 1\n",
        "    sigma_model = integrate.simps(yy,xx)\n",
        "    sigma_random = integrate.simps(xx,xx)\n",
        "    \n",
        "    ar_value = (sigma_model - sigma_random) / (sigma_ideal - sigma_random)\n",
        "    if ar_value>1:\n",
        "      ar_value=1\n",
        "\n",
        "    \n",
        "    \n",
        "    fig, ax = plt.subplots(nrows = 1, ncols = 1)\n",
        "    ax.plot(ideal['x'],ideal['y'], color='grey', label='Perfect Model')\n",
        "    ax.plot(xx,yy, color='red', label='User Model')\n",
        "    ax.plot(xx,xx, color='blue', label='Random Model')\n",
        "    ax.plot([percent, percent], [0.0, val], color='green', linestyle='--', linewidth=1)\n",
        "    ax.plot([0, percent], [val, val], color='green', linestyle='--', linewidth=1, label=str(val*100)+'% of positive obs at '+str(percent*100)+'%')\n",
        "    \n",
        "    plt.xlim(0, 1.02)\n",
        "    plt.ylim(0, 1.25)\n",
        "    plt.title(\"CAP Curve - a_r value =\"+str(ar_value))\n",
        "    plt.xlabel('% of the data')\n",
        "    plt.ylabel('% of positive obs')\n",
        "    plt.legend()\n",
        "    return ar_value\n",
        "\n"
      ],
      "execution_count": 42,
      "outputs": []
    },
    {
      "cell_type": "code",
      "metadata": {
        "id": "QmxYc4P6rLTB",
        "outputId": "d3d665a6-4a7a-42c5-a76e-6ceb6b5c1a08",
        "colab": {
          "base_uri": "https://localhost:8080/",
          "height": 295
        }
      },
      "source": [
        "ar_value=capcurve(y_values=test_y, y_preds_proba=y_preds_proba[:,1])"
      ],
      "execution_count": 43,
      "outputs": [
        {
          "output_type": "display_data",
          "data": {
            "image/png": "[encoded data removed]",
            "text/plain": [
              "<Figure size 432x288 with 1 Axes>"
            ]
          },
          "metadata": {
            "tags": [],
            "needs_background": "light"
          }
        }
      ]
    },
    {
      "cell_type": "code",
      "metadata": {
        "id": "V51WMeI0soqw",
        "outputId": "2a47df11-e0f4-438b-910e-92fa61eeb338",
        "colab": {
          "base_uri": "https://localhost:8080/"
        }
      },
      "source": [
        "print(\"ar value=\",ar_value )"
      ],
      "execution_count": 44,
      "outputs": [
        {
          "output_type": "stream",
          "text": [
            "ar value= 0.8669406392694068\n"
          ],
          "name": "stdout"
        }
      ]
    },
    {
      "cell_type": "code",
      "metadata": {
        "id": "hjZCSDuMsvSG"
      },
      "source": [
        ""
      ],
      "execution_count": 44,
      "outputs": []
    },
    {
      "cell_type": "code",
      "metadata": {
        "id": "3Ki59gMNSugi"
      },
      "source": [
        "#Compute the Kolmogorov-Smirnov statistic on 2 samples\n",
        "#https://sparky.rice.edu//astr360/kstest.pdf"
      ],
      "execution_count": 45,
      "outputs": []
    },
    {
      "cell_type": "code",
      "metadata": {
        "id": "5i_zpJZKSxEI"
      },
      "source": [
        "from scipy import stats"
      ],
      "execution_count": 46,
      "outputs": []
    },
    {
      "cell_type": "code",
      "metadata": {
        "id": "M3N7VaCBTuxv"
      },
      "source": [
        "alpha=0.05"
      ],
      "execution_count": 47,
      "outputs": []
    },
    {
      "cell_type": "code",
      "metadata": {
        "id": "1-0WeW5ATDci",
        "outputId": "817bbc4e-d6e7-43ef-a77f-f00d642cc3c1",
        "colab": {
          "base_uri": "https://localhost:8080/"
        }
      },
      "source": [
        "# This tests whether 2 samples are drawn from the same distribution.\n",
        "statistics, pvalue = stats.ks_2samp(predictions, test_y)\n",
        "print(statistics, pvalue)"
      ],
      "execution_count": 48,
      "outputs": [
        {
          "output_type": "stream",
          "text": [
            "0.07 0.9684099261397212\n"
          ],
          "name": "stdout"
        }
      ]
    },
    {
      "cell_type": "code",
      "metadata": {
        "id": "LEbDj_AxT93m",
        "outputId": "1f62b27a-e48d-472c-8585-097abc3321ac",
        "colab": {
          "base_uri": "https://localhost:8080/"
        }
      },
      "source": [
        "if pvalue>alpha:\n",
        "  print(\"H0 - the same distribution\")\n",
        "else:\n",
        "  print(\"H1 the different one\")"
      ],
      "execution_count": 49,
      "outputs": [
        {
          "output_type": "stream",
          "text": [
            "H0 - the same distribution\n"
          ],
          "name": "stdout"
        }
      ]
    },
    {
      "cell_type": "code",
      "metadata": {
        "id": "GfCe4HalUT-4"
      },
      "source": [
        "statistics2, pvalue2 =  stats.ks_2samp(predictions2, test_y)"
      ],
      "execution_count": 50,
      "outputs": []
    },
    {
      "cell_type": "code",
      "metadata": {
        "id": "E5kQ0sDKUf0f",
        "outputId": "806c0947-39ab-4e50-b790-a80cbdbaa299",
        "colab": {
          "base_uri": "https://localhost:8080/"
        }
      },
      "source": [
        "if pvalue2>alpha:\n",
        "  print(\"H0 - the same distribution\")\n",
        "else:\n",
        "  print(\"H1 the different one\")"
      ],
      "execution_count": 51,
      "outputs": [
        {
          "output_type": "stream",
          "text": [
            "H0 - the same distribution\n"
          ],
          "name": "stdout"
        }
      ]
    },
    {
      "cell_type": "code",
      "metadata": {
        "id": "cA2x6dJjVX7L"
      },
      "source": [
        ""
      ],
      "execution_count": 51,
      "outputs": []
    }
  ]
}